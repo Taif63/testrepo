{
  "metadata": {
    "kernelspec": {
      "name": "python",
      "display_name": "Python (Pyodide)",
      "language": "python"
    },
    "language_info": {
      "codemirror_mode": {
        "name": "python",
        "version": 3
      },
      "file_extension": ".py",
      "mimetype": "text/x-python",
      "name": "python",
      "nbconvert_exporter": "python",
      "pygments_lexer": "ipython3",
      "version": "3.8"
    }
  },
  "nbformat_minor": 4,
  "nbformat": 4,
  "cells": [
    {
      "cell_type": "markdown",
      "source": " # Data Science Tools and Ecosystem",
      "metadata": {}
    },
    {
      "cell_type": "markdown",
      "source": "## in this nootbook,Data Science Tools and Ecosystem are summerized",
      "metadata": {}
    },
    {
      "cell_type": "markdown",
      "source": "### Objectives\n* Describe the data scientist's tool kit\n* utilize laungues mostly used by data scientist\n* demonstrate working knowledge of tools\n* create and manage source code ",
      "metadata": {}
    },
    {
      "cell_type": "markdown",
      "source": "#### some of the popular languages that data scienctist use are:",
      "metadata": {}
    },
    {
      "cell_type": "markdown",
      "source": "1. SQL\n2. Python\n3. R\n4. Java\n5. C++",
      "metadata": {}
    },
    {
      "cell_type": "markdown",
      "source": "#### some of the commonly used libaries used by data scienctist are",
      "metadata": {}
    },
    {
      "cell_type": "markdown",
      "source": "1. pytouch\n2. pandas\n3. numpy",
      "metadata": {}
    },
    {
      "cell_type": "markdown",
      "source": "### some data science tools",
      "metadata": {}
    },
    {
      "cell_type": "markdown",
      "source": "\ndata science tools \n:--------------------\nSAS\nApache spark\nBigML",
      "metadata": {}
    },
    {
      "cell_type": "markdown",
      "source": "### below are a few examples of evalutinig arthimetic expression in python ",
      "metadata": {}
    },
    {
      "cell_type": "markdown",
      "source": "this is a simple arthemtic expression to multiply then add integres",
      "metadata": {}
    },
    {
      "cell_type": "code",
      "source": "(3*4)+5",
      "metadata": {
        "trusted": true
      },
      "outputs": [
        {
          "execution_count": 1,
          "output_type": "execute_result",
          "data": {
            "text/plain": "17"
          },
          "metadata": {}
        }
      ],
      "execution_count": 1
    },
    {
      "cell_type": "markdown",
      "source": "this will convert 200min to hours",
      "metadata": {}
    },
    {
      "cell_type": "code",
      "source": "days = 0\nhours = 0\nmin = 0\n\ntime = 200\n#days = time / 1440\nleftover_minutes = time % 1440\nhours = leftover_minutes / 60\n#min =time - (days*1440) - (hours*60)\nprint(str(days) + \"days,\" +str(hours) + \"hours,\" +str(min) +\"min.\" )",
      "metadata": {
        "trusted": true
      },
      "outputs": [
        {
          "name": "stdout",
          "text": "0days,3.3333333333333335hours,0min.\n",
          "output_type": "stream"
        }
      ],
      "execution_count": 5
    },
    {
      "cell_type": "markdown",
      "source": "## Author\nTaif M",
      "metadata": {}
    }
  ]
}